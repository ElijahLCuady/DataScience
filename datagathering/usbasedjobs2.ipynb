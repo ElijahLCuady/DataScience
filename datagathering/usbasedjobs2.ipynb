{
 "cells": [
  {
   "cell_type": "code",
   "execution_count": 1,
   "metadata": {},
   "outputs": [],
   "source": [
    "import csv\n",
    "import pandas as pd"
   ]
  },
  {
   "cell_type": "code",
   "execution_count": 2,
   "metadata": {},
   "outputs": [],
   "source": [
    "detected_encoding = \"MacRoman\"\n",
    "df = pd.read_csv(\"../datasets/Dice_US_jobs.csv\", encoding=detected_encoding)"
   ]
  },
  {
   "cell_type": "code",
   "execution_count": 5,
   "metadata": {},
   "outputs": [
    {
     "name": "stdout",
     "output_type": "stream",
     "text": [
      "<class 'pandas.core.frame.DataFrame'>\n",
      "RangeIndex: 21919 entries, 0 to 21918\n",
      "Data columns (total 12 columns):\n",
      " #   Column           Non-Null Count  Dtype \n",
      "---  ------           --------------  ----- \n",
      " 0   country_code     21919 non-null  object\n",
      " 1   date_added       21919 non-null  object\n",
      " 2   job_board        21919 non-null  object\n",
      " 3   job_description  21919 non-null  object\n",
      " 4   job_title        21918 non-null  object\n",
      " 5   job_type         21680 non-null  object\n",
      " 6   location         21918 non-null  object\n",
      " 7   organization     21918 non-null  object\n",
      " 8   page_url         21918 non-null  object\n",
      " 9   phone_number     50 non-null     object\n",
      " 10  salary           28 non-null     object\n",
      " 11  sector           21886 non-null  object\n",
      "dtypes: object(12)\n",
      "memory usage: 2.0+ MB\n",
      "None\n"
     ]
    }
   ],
   "source": [
    "print(df.info())"
   ]
  },
  {
   "cell_type": "code",
   "execution_count": 11,
   "metadata": {},
   "outputs": [
    {
     "ename": "KeyError",
     "evalue": "\"['phone_number', 'salary'] not found in axis\"",
     "output_type": "error",
     "traceback": [
      "\u001b[1;31m---------------------------------------------------------------------------\u001b[0m",
      "\u001b[1;31mKeyError\u001b[0m                                  Traceback (most recent call last)",
      "\u001b[1;32mc:\\Users\\elija\\Desktop\\5. semester\\AI\\datagathering\\usbasedjobs2.ipynb Cell 4\u001b[0m line \u001b[0;36m2\n\u001b[0;32m      <a href='vscode-notebook-cell:/c%3A/Users/elija/Desktop/5.%20semester/AI/datagathering/usbasedjobs2.ipynb#W3sZmlsZQ%3D%3D?line=0'>1</a>\u001b[0m drop_columns \u001b[39m=\u001b[39m [\u001b[39m\"\u001b[39m\u001b[39mphone_number\u001b[39m\u001b[39m\"\u001b[39m, \u001b[39m\"\u001b[39m\u001b[39msalary\u001b[39m\u001b[39m\"\u001b[39m, \u001b[39m\"\u001b[39m\u001b[39mjob_type\u001b[39m\u001b[39m\"\u001b[39m]\n\u001b[1;32m----> <a href='vscode-notebook-cell:/c%3A/Users/elija/Desktop/5.%20semester/AI/datagathering/usbasedjobs2.ipynb#W3sZmlsZQ%3D%3D?line=1'>2</a>\u001b[0m df\u001b[39m.\u001b[39;49mdrop(columns\u001b[39m=\u001b[39;49mdrop_columns, inplace\u001b[39m=\u001b[39;49m\u001b[39mTrue\u001b[39;49;00m)\n",
      "File \u001b[1;32mc:\\Python311\\Lib\\site-packages\\pandas\\core\\frame.py:5268\u001b[0m, in \u001b[0;36mDataFrame.drop\u001b[1;34m(self, labels, axis, index, columns, level, inplace, errors)\u001b[0m\n\u001b[0;32m   5120\u001b[0m \u001b[39mdef\u001b[39;00m \u001b[39mdrop\u001b[39m(\n\u001b[0;32m   5121\u001b[0m     \u001b[39mself\u001b[39m,\n\u001b[0;32m   5122\u001b[0m     labels: IndexLabel \u001b[39m=\u001b[39m \u001b[39mNone\u001b[39;00m,\n\u001b[1;32m   (...)\u001b[0m\n\u001b[0;32m   5129\u001b[0m     errors: IgnoreRaise \u001b[39m=\u001b[39m \u001b[39m\"\u001b[39m\u001b[39mraise\u001b[39m\u001b[39m\"\u001b[39m,\n\u001b[0;32m   5130\u001b[0m ) \u001b[39m-\u001b[39m\u001b[39m>\u001b[39m DataFrame \u001b[39m|\u001b[39m \u001b[39mNone\u001b[39;00m:\n\u001b[0;32m   5131\u001b[0m \u001b[39m    \u001b[39m\u001b[39m\"\"\"\u001b[39;00m\n\u001b[0;32m   5132\u001b[0m \u001b[39m    Drop specified labels from rows or columns.\u001b[39;00m\n\u001b[0;32m   5133\u001b[0m \n\u001b[1;32m   (...)\u001b[0m\n\u001b[0;32m   5266\u001b[0m \u001b[39m            weight  1.0     0.8\u001b[39;00m\n\u001b[0;32m   5267\u001b[0m \u001b[39m    \"\"\"\u001b[39;00m\n\u001b[1;32m-> 5268\u001b[0m     \u001b[39mreturn\u001b[39;00m \u001b[39msuper\u001b[39;49m()\u001b[39m.\u001b[39;49mdrop(\n\u001b[0;32m   5269\u001b[0m         labels\u001b[39m=\u001b[39;49mlabels,\n\u001b[0;32m   5270\u001b[0m         axis\u001b[39m=\u001b[39;49maxis,\n\u001b[0;32m   5271\u001b[0m         index\u001b[39m=\u001b[39;49mindex,\n\u001b[0;32m   5272\u001b[0m         columns\u001b[39m=\u001b[39;49mcolumns,\n\u001b[0;32m   5273\u001b[0m         level\u001b[39m=\u001b[39;49mlevel,\n\u001b[0;32m   5274\u001b[0m         inplace\u001b[39m=\u001b[39;49minplace,\n\u001b[0;32m   5275\u001b[0m         errors\u001b[39m=\u001b[39;49merrors,\n\u001b[0;32m   5276\u001b[0m     )\n",
      "File \u001b[1;32mc:\\Python311\\Lib\\site-packages\\pandas\\core\\generic.py:4549\u001b[0m, in \u001b[0;36mNDFrame.drop\u001b[1;34m(self, labels, axis, index, columns, level, inplace, errors)\u001b[0m\n\u001b[0;32m   4547\u001b[0m \u001b[39mfor\u001b[39;00m axis, labels \u001b[39min\u001b[39;00m axes\u001b[39m.\u001b[39mitems():\n\u001b[0;32m   4548\u001b[0m     \u001b[39mif\u001b[39;00m labels \u001b[39mis\u001b[39;00m \u001b[39mnot\u001b[39;00m \u001b[39mNone\u001b[39;00m:\n\u001b[1;32m-> 4549\u001b[0m         obj \u001b[39m=\u001b[39m obj\u001b[39m.\u001b[39;49m_drop_axis(labels, axis, level\u001b[39m=\u001b[39;49mlevel, errors\u001b[39m=\u001b[39;49merrors)\n\u001b[0;32m   4551\u001b[0m \u001b[39mif\u001b[39;00m inplace:\n\u001b[0;32m   4552\u001b[0m     \u001b[39mself\u001b[39m\u001b[39m.\u001b[39m_update_inplace(obj)\n",
      "File \u001b[1;32mc:\\Python311\\Lib\\site-packages\\pandas\\core\\generic.py:4591\u001b[0m, in \u001b[0;36mNDFrame._drop_axis\u001b[1;34m(self, labels, axis, level, errors, only_slice)\u001b[0m\n\u001b[0;32m   4589\u001b[0m         new_axis \u001b[39m=\u001b[39m axis\u001b[39m.\u001b[39mdrop(labels, level\u001b[39m=\u001b[39mlevel, errors\u001b[39m=\u001b[39merrors)\n\u001b[0;32m   4590\u001b[0m     \u001b[39melse\u001b[39;00m:\n\u001b[1;32m-> 4591\u001b[0m         new_axis \u001b[39m=\u001b[39m axis\u001b[39m.\u001b[39;49mdrop(labels, errors\u001b[39m=\u001b[39;49merrors)\n\u001b[0;32m   4592\u001b[0m     indexer \u001b[39m=\u001b[39m axis\u001b[39m.\u001b[39mget_indexer(new_axis)\n\u001b[0;32m   4594\u001b[0m \u001b[39m# Case for non-unique axis\u001b[39;00m\n\u001b[0;32m   4595\u001b[0m \u001b[39melse\u001b[39;00m:\n",
      "File \u001b[1;32mc:\\Python311\\Lib\\site-packages\\pandas\\core\\indexes\\base.py:6696\u001b[0m, in \u001b[0;36mIndex.drop\u001b[1;34m(self, labels, errors)\u001b[0m\n\u001b[0;32m   6694\u001b[0m \u001b[39mif\u001b[39;00m mask\u001b[39m.\u001b[39many():\n\u001b[0;32m   6695\u001b[0m     \u001b[39mif\u001b[39;00m errors \u001b[39m!=\u001b[39m \u001b[39m\"\u001b[39m\u001b[39mignore\u001b[39m\u001b[39m\"\u001b[39m:\n\u001b[1;32m-> 6696\u001b[0m         \u001b[39mraise\u001b[39;00m \u001b[39mKeyError\u001b[39;00m(\u001b[39mf\u001b[39m\u001b[39m\"\u001b[39m\u001b[39m{\u001b[39;00m\u001b[39mlist\u001b[39m(labels[mask])\u001b[39m}\u001b[39;00m\u001b[39m not found in axis\u001b[39m\u001b[39m\"\u001b[39m)\n\u001b[0;32m   6697\u001b[0m     indexer \u001b[39m=\u001b[39m indexer[\u001b[39m~\u001b[39mmask]\n\u001b[0;32m   6698\u001b[0m \u001b[39mreturn\u001b[39;00m \u001b[39mself\u001b[39m\u001b[39m.\u001b[39mdelete(indexer)\n",
      "\u001b[1;31mKeyError\u001b[0m: \"['phone_number', 'salary'] not found in axis\""
     ]
    }
   ],
   "source": [
    "drop_columns = [\"phone_number\", \"salary\", \"job_type\"]\n",
    "df.drop(columns=drop_columns, inplace=True)"
   ]
  },
  {
   "cell_type": "code",
   "execution_count": 12,
   "metadata": {},
   "outputs": [
    {
     "name": "stdout",
     "output_type": "stream",
     "text": [
      "<class 'pandas.core.frame.DataFrame'>\n",
      "RangeIndex: 21919 entries, 0 to 21918\n",
      "Data columns (total 10 columns):\n",
      " #   Column           Non-Null Count  Dtype \n",
      "---  ------           --------------  ----- \n",
      " 0   country_code     21919 non-null  object\n",
      " 1   date_added       21919 non-null  object\n",
      " 2   job_board        21919 non-null  object\n",
      " 3   job_description  21919 non-null  object\n",
      " 4   job_title        21918 non-null  object\n",
      " 5   job_type         21680 non-null  object\n",
      " 6   location         21918 non-null  object\n",
      " 7   organization     21918 non-null  object\n",
      " 8   page_url         21918 non-null  object\n",
      " 9   sector           21886 non-null  object\n",
      "dtypes: object(10)\n",
      "memory usage: 1.7+ MB\n"
     ]
    }
   ],
   "source": [
    "df.info()"
   ]
  },
  {
   "cell_type": "code",
   "execution_count": 13,
   "metadata": {},
   "outputs": [],
   "source": [
    "drop_columns = [\"job_type\"]\n",
    "df.drop(columns=drop_columns, inplace=True)"
   ]
  },
  {
   "cell_type": "code",
   "execution_count": 16,
   "metadata": {},
   "outputs": [],
   "source": [
    "drop_columns = [\"sector\"]\n",
    "df.drop(columns=drop_columns, inplace=True)"
   ]
  },
  {
   "cell_type": "code",
   "execution_count": 17,
   "metadata": {},
   "outputs": [
    {
     "name": "stdout",
     "output_type": "stream",
     "text": [
      "<class 'pandas.core.frame.DataFrame'>\n",
      "RangeIndex: 21919 entries, 0 to 21918\n",
      "Data columns (total 8 columns):\n",
      " #   Column           Non-Null Count  Dtype \n",
      "---  ------           --------------  ----- \n",
      " 0   country_code     21919 non-null  object\n",
      " 1   date_added       21919 non-null  object\n",
      " 2   job_board        21919 non-null  object\n",
      " 3   job_description  21919 non-null  object\n",
      " 4   job_title        21918 non-null  object\n",
      " 5   location         21918 non-null  object\n",
      " 6   organization     21918 non-null  object\n",
      " 7   page_url         21918 non-null  object\n",
      "dtypes: object(8)\n",
      "memory usage: 1.3+ MB\n"
     ]
    }
   ],
   "source": [
    "df.info()"
   ]
  },
  {
   "cell_type": "code",
   "execution_count": 21,
   "metadata": {},
   "outputs": [
    {
     "data": {
      "text/html": [
       "<div>\n",
       "<style scoped>\n",
       "    .dataframe tbody tr th:only-of-type {\n",
       "        vertical-align: middle;\n",
       "    }\n",
       "\n",
       "    .dataframe tbody tr th {\n",
       "        vertical-align: top;\n",
       "    }\n",
       "\n",
       "    .dataframe thead th {\n",
       "        text-align: right;\n",
       "    }\n",
       "</style>\n",
       "<table border=\"1\" class=\"dataframe\">\n",
       "  <thead>\n",
       "    <tr style=\"text-align: right;\">\n",
       "      <th></th>\n",
       "      <th>country_code</th>\n",
       "      <th>date_added</th>\n",
       "      <th>job_board</th>\n",
       "      <th>job_description</th>\n",
       "      <th>job_title</th>\n",
       "      <th>location</th>\n",
       "      <th>organization</th>\n",
       "      <th>page_url</th>\n",
       "    </tr>\n",
       "  </thead>\n",
       "  <tbody>\n",
       "    <tr>\n",
       "      <th>0</th>\n",
       "      <td>US</td>\n",
       "      <td>11/11/2016</td>\n",
       "      <td>https://www.dice.com</td>\n",
       "      <td>Minimum Required Skills:EDI, TrustedLink, AS2,...</td>\n",
       "      <td>EDI Analyst</td>\n",
       "      <td>Stamford, CT</td>\n",
       "      <td>CyberCoders</td>\n",
       "      <td>https://www.dice.com/jobs/detail/EDI-Analyst-%...</td>\n",
       "    </tr>\n",
       "    <tr>\n",
       "      <th>1</th>\n",
       "      <td>US</td>\n",
       "      <td>11/11/2016</td>\n",
       "      <td>https://www.dice.com</td>\n",
       "      <td>InformaticaÂ / ETL DeveloperSt, Petersburg, FL...</td>\n",
       "      <td>Informatica ETL Developer</td>\n",
       "      <td>St Petersburg, FL</td>\n",
       "      <td>TrustMinds</td>\n",
       "      <td>https://www.dice.com/jobs/detail/Informatica-E...</td>\n",
       "    </tr>\n",
       "    <tr>\n",
       "      <th>2</th>\n",
       "      <td>US</td>\n",
       "      <td>11/11/2016</td>\n",
       "      <td>https://www.dice.com</td>\n",
       "      <td>pmayekar@kanandcorp.com 512-697-8897Sunnyvale ...</td>\n",
       "      <td>Angular developer</td>\n",
       "      <td>Sunnyvale, CA</td>\n",
       "      <td>K Anand Corporation</td>\n",
       "      <td>https://www.dice.com/jobs/detail/Angular-devel...</td>\n",
       "    </tr>\n",
       "    <tr>\n",
       "      <th>3</th>\n",
       "      <td>US</td>\n",
       "      <td>11/12/2016</td>\n",
       "      <td>https://www.dice.com</td>\n",
       "      <td>This nationally recognized Microsoft Gold Part...</td>\n",
       "      <td>Microsoft Dynamics AX, Project Manager</td>\n",
       "      <td>Toronto, Canada, ON</td>\n",
       "      <td>Nigel Frank International</td>\n",
       "      <td>https://www.dice.com/jobs/detail/Microsoft-Dyn...</td>\n",
       "    </tr>\n",
       "    <tr>\n",
       "      <th>4</th>\n",
       "      <td>US</td>\n",
       "      <td>11/11/2016</td>\n",
       "      <td>https://www.dice.com</td>\n",
       "      <td>Minimum Required Skills:C#, ASP.NET, SQL, Java...</td>\n",
       "      <td>Software Developer</td>\n",
       "      <td>Stamford, CT</td>\n",
       "      <td>CyberCoders</td>\n",
       "      <td>https://www.dice.com/jobs/detail/Software-Deve...</td>\n",
       "    </tr>\n",
       "  </tbody>\n",
       "</table>\n",
       "</div>"
      ],
      "text/plain": [
       "  country_code  date_added             job_board   \n",
       "0           US  11/11/2016  https://www.dice.com  \\\n",
       "1           US  11/11/2016  https://www.dice.com   \n",
       "2           US  11/11/2016  https://www.dice.com   \n",
       "3           US  11/12/2016  https://www.dice.com   \n",
       "4           US  11/11/2016  https://www.dice.com   \n",
       "\n",
       "                                     job_description   \n",
       "0  Minimum Required Skills:EDI, TrustedLink, AS2,...  \\\n",
       "1  InformaticaÂ / ETL DeveloperSt, Petersburg, FL...   \n",
       "2  pmayekar@kanandcorp.com 512-697-8897Sunnyvale ...   \n",
       "3  This nationally recognized Microsoft Gold Part...   \n",
       "4  Minimum Required Skills:C#, ASP.NET, SQL, Java...   \n",
       "\n",
       "                                job_title             location   \n",
       "0                             EDI Analyst         Stamford, CT  \\\n",
       "1               Informatica ETL Developer    St Petersburg, FL   \n",
       "2                       Angular developer        Sunnyvale, CA   \n",
       "3  Microsoft Dynamics AX, Project Manager  Toronto, Canada, ON   \n",
       "4                      Software Developer         Stamford, CT   \n",
       "\n",
       "                organization   \n",
       "0                CyberCoders  \\\n",
       "1                 TrustMinds   \n",
       "2        K Anand Corporation   \n",
       "3  Nigel Frank International   \n",
       "4                CyberCoders   \n",
       "\n",
       "                                            page_url  \n",
       "0  https://www.dice.com/jobs/detail/EDI-Analyst-%...  \n",
       "1  https://www.dice.com/jobs/detail/Informatica-E...  \n",
       "2  https://www.dice.com/jobs/detail/Angular-devel...  \n",
       "3  https://www.dice.com/jobs/detail/Microsoft-Dyn...  \n",
       "4  https://www.dice.com/jobs/detail/Software-Deve...  "
      ]
     },
     "execution_count": 21,
     "metadata": {},
     "output_type": "execute_result"
    }
   ],
   "source": [
    "all_titles = df[df[\"job_title\"].notna()]\n",
    "\n",
    "all_titles.head()"
   ]
  },
  {
   "cell_type": "code",
   "execution_count": 22,
   "metadata": {},
   "outputs": [
    {
     "name": "stdout",
     "output_type": "stream",
     "text": [
      "<class 'pandas.core.frame.DataFrame'>\n",
      "Index: 21918 entries, 0 to 21918\n",
      "Data columns (total 8 columns):\n",
      " #   Column           Non-Null Count  Dtype \n",
      "---  ------           --------------  ----- \n",
      " 0   country_code     21918 non-null  object\n",
      " 1   date_added       21918 non-null  object\n",
      " 2   job_board        21918 non-null  object\n",
      " 3   job_description  21918 non-null  object\n",
      " 4   job_title        21918 non-null  object\n",
      " 5   location         21918 non-null  object\n",
      " 6   organization     21918 non-null  object\n",
      " 7   page_url         21918 non-null  object\n",
      "dtypes: object(8)\n",
      "memory usage: 1.5+ MB\n"
     ]
    }
   ],
   "source": [
    "all_titles.info()"
   ]
  },
  {
   "cell_type": "code",
   "execution_count": 23,
   "metadata": {},
   "outputs": [
    {
     "name": "stdout",
     "output_type": "stream",
     "text": [
      "<class 'pandas.core.frame.DataFrame'>\n",
      "Index: 5023 entries, 1 to 21917\n",
      "Data columns (total 8 columns):\n",
      " #   Column           Non-Null Count  Dtype \n",
      "---  ------           --------------  ----- \n",
      " 0   country_code     5023 non-null   object\n",
      " 1   date_added       5023 non-null   object\n",
      " 2   job_board        5023 non-null   object\n",
      " 3   job_description  5023 non-null   object\n",
      " 4   job_title        5023 non-null   object\n",
      " 5   location         5023 non-null   object\n",
      " 6   organization     5023 non-null   object\n",
      " 7   page_url         5023 non-null   object\n",
      "dtypes: object(8)\n",
      "memory usage: 353.2+ KB\n"
     ]
    }
   ],
   "source": [
    "df_developers = all_titles[all_titles[\"job_title\"].str.contains(\"Developer\")]\n",
    "df_developers.info()"
   ]
  }
 ],
 "metadata": {
  "kernelspec": {
   "display_name": "Python 3",
   "language": "python",
   "name": "python3"
  },
  "language_info": {
   "codemirror_mode": {
    "name": "ipython",
    "version": 3
   },
   "file_extension": ".py",
   "mimetype": "text/x-python",
   "name": "python",
   "nbconvert_exporter": "python",
   "pygments_lexer": "ipython3",
   "version": "3.11.0"
  },
  "orig_nbformat": 4
 },
 "nbformat": 4,
 "nbformat_minor": 2
}
