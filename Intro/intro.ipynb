{
 "cells": [
  {
   "cell_type": "code",
   "execution_count": null,
   "metadata": {},
   "outputs": [],
   "source": [
    "# How do I create a function?\n",
    "import pandas as pd\n",
    "\n",
    "my_list = [1, 2, 3, 4, 5]\n",
    "\n",
    "my_pd = pd.Series(my_list)\n",
    "\n",
    "print(my_pd)\n",
    "print(\"Done!\")"
   ]
  },
  {
   "cell_type": "code",
   "execution_count": null,
   "metadata": {},
   "outputs": [],
   "source": [
    "print(\"Hei\")"
   ]
  }
 ],
 "metadata": {
  "kernelspec": {
   "display_name": "DAVE3625",
   "language": "python",
   "name": "python3"
  },
  "language_info": {
   "codemirror_mode": {
    "name": "ipython",
    "version": 3
   },
   "file_extension": ".py",
   "mimetype": "text/x-python",
   "name": "python",
   "nbconvert_exporter": "python",
   "pygments_lexer": "ipython3",
   "version": "3.11.0"
  },
  "orig_nbformat": 4
 },
 "nbformat": 4,
 "nbformat_minor": 2
}
