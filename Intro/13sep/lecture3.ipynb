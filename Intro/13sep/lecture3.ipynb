{
 "cells": [
  {
   "cell_type": "code",
   "execution_count": 2,
   "metadata": {},
   "outputs": [
    {
     "name": "stdout",
     "output_type": "stream",
     "text": [
      "hei sann\n"
     ]
    }
   ],
   "source": [
    "print(\"hei sann\")\n"
   ]
  },
  {
   "cell_type": "markdown",
   "metadata": {},
   "source": [
    "Data\n",
    "\n",
    "Data annonimization - use data \n",
    "Feature engineering \n",
    "\n",
    "ani character recognition"
   ]
  },
  {
   "cell_type": "markdown",
   "metadata": {},
   "source": [
    "Prompt\n",
    "\n",
    "Context: This is a flashcard with 2 sides \"A\" and \"B\" created by the user. Evaluate/ rate how well the user's input fits with both \"A\" and \"B\". Choose 1 adjective from this scale (terrible, bad, okay, good, excellent), followed by \"This is why is was [adjective]: \" \\n\n",
    "1. \n",
    "2. \n",
    "3. \n",
    "\n",
    "Q/F: It is about protecting data against unintentional, unlawful, or unauthorized access, disclosure, or theft.\n",
    "A/B: Confidentiality\n",
    "User input: Integrity \n",
    "\n",
    "- Should be able to ocnvert one deck with type 1 to a type 2 deck\n",
    "- comma separated correct values - how to  \n",
    "- Validate empty input, press enter or submit so it doesn't use tokens for no reason \n",
    "- a button for each type -> opens a new page and views each flashcard in that format "
   ]
  }
 ],
 "metadata": {
  "kernelspec": {
   "display_name": "Python 3",
   "language": "python",
   "name": "python3"
  },
  "language_info": {
   "codemirror_mode": {
    "name": "ipython",
    "version": 3
   },
   "file_extension": ".py",
   "mimetype": "text/x-python",
   "name": "python",
   "nbconvert_exporter": "python",
   "pygments_lexer": "ipython3",
   "version": "3.11.0"
  },
  "orig_nbformat": 4
 },
 "nbformat": 4,
 "nbformat_minor": 2
}
